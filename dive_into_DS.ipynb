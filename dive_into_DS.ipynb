{
 "cells": [
  {
   "cell_type": "markdown",
   "metadata": {},
   "source": [
    "# Diving into Data Science"
   ]
  },
  {
   "cell_type": "markdown",
   "metadata": {},
   "source": [
    "## EDA"
   ]
  },
  {
   "cell_type": "markdown",
   "metadata": {},
   "source": [
    "Import data into pandas\n",
    "\n",
    "Data is from a bike-sharing services from Capital BikeShare"
   ]
  },
  {
   "cell_type": "code",
   "execution_count": 3,
   "metadata": {},
   "outputs": [
    {
     "name": "stdout",
     "output_type": "stream",
     "text": [
      "   instant      dteday  season  yr  mnth  hr  holiday  weekday  workingday  \\\n",
      "0        1  2011-01-01       1   0     1   0        0        6           0   \n",
      "1        2  2011-01-01       1   0     1   1        0        6           0   \n",
      "2        3  2011-01-01       1   0     1   2        0        6           0   \n",
      "3        4  2011-01-01       1   0     1   3        0        6           0   \n",
      "4        5  2011-01-01       1   0     1   4        0        6           0   \n",
      "\n",
      "   weathersit  temp   atemp   hum  windspeed  casual  registered  count  \n",
      "0           1  0.24  0.2879  0.81        0.0       3          13     16  \n",
      "1           1  0.22  0.2727  0.80        0.0       8          32     40  \n",
      "2           1  0.22  0.2727  0.80        0.0       5          27     32  \n",
      "3           1  0.24  0.2879  0.75        0.0       3          10     13  \n",
      "4           1  0.24  0.2879  0.75        0.0       0           1      1  \n"
     ]
    }
   ],
   "source": [
    "import pandas as pd\n",
    "hour = pd.read_csv('hour.csv')\n",
    "print(hour.head())"
   ]
  },
  {
   "cell_type": "markdown",
   "metadata": {},
   "source": [
    "This data set is to understand bike rides for a random company to practice with manipulating data and getting insight"
   ]
  },
  {
   "cell_type": "markdown",
   "metadata": {},
   "source": [
    "Calculating Summary Statistics"
   ]
  },
  {
   "cell_type": "code",
   "execution_count": 4,
   "metadata": {},
   "outputs": [
    {
     "name": "stdout",
     "output_type": "stream",
     "text": [
      "          instant        season            yr          mnth            hr  \\\n",
      "count  17379.0000  17379.000000  17379.000000  17379.000000  17379.000000   \n",
      "mean    8690.0000      2.501640      0.502561      6.537775     11.546752   \n",
      "std     5017.0295      1.106918      0.500008      3.438776      6.914405   \n",
      "min        1.0000      1.000000      0.000000      1.000000      0.000000   \n",
      "25%     4345.5000      2.000000      0.000000      4.000000      6.000000   \n",
      "50%     8690.0000      3.000000      1.000000      7.000000     12.000000   \n",
      "75%    13034.5000      3.000000      1.000000     10.000000     18.000000   \n",
      "max    17379.0000      4.000000      1.000000     12.000000     23.000000   \n",
      "\n",
      "            holiday       weekday    workingday    weathersit          temp  \\\n",
      "count  17379.000000  17379.000000  17379.000000  17379.000000  17379.000000   \n",
      "mean       0.028770      3.003683      0.682721      1.425283      0.496987   \n",
      "std        0.167165      2.005771      0.465431      0.639357      0.192556   \n",
      "min        0.000000      0.000000      0.000000      1.000000      0.020000   \n",
      "25%        0.000000      1.000000      0.000000      1.000000      0.340000   \n",
      "50%        0.000000      3.000000      1.000000      1.000000      0.500000   \n",
      "75%        0.000000      5.000000      1.000000      2.000000      0.660000   \n",
      "max        1.000000      6.000000      1.000000      4.000000      1.000000   \n",
      "\n",
      "              atemp           hum     windspeed        casual    registered  \\\n",
      "count  17379.000000  17379.000000  17379.000000  17379.000000  17379.000000   \n",
      "mean       0.475775      0.627229      0.190098     35.676218    153.786869   \n",
      "std        0.171850      0.192930      0.122340     49.305030    151.357286   \n",
      "min        0.000000      0.000000      0.000000      0.000000      0.000000   \n",
      "25%        0.333300      0.480000      0.104500      4.000000     34.000000   \n",
      "50%        0.484800      0.630000      0.194000     17.000000    115.000000   \n",
      "75%        0.621200      0.780000      0.253700     48.000000    220.000000   \n",
      "max        1.000000      1.000000      0.850700    367.000000    886.000000   \n",
      "\n",
      "              count  \n",
      "count  17379.000000  \n",
      "mean     189.463088  \n",
      "std      181.387599  \n",
      "min        1.000000  \n",
      "25%       40.000000  \n",
      "50%      142.000000  \n",
      "75%      281.000000  \n",
      "max      977.000000  \n"
     ]
    }
   ],
   "source": [
    "print(hour.describe())"
   ]
  },
  {
   "cell_type": "markdown",
   "metadata": {},
   "source": [
    "This is to show a brief understand of this big data set. This will give me more insight into it. "
   ]
  },
  {
   "cell_type": "markdown",
   "metadata": {},
   "source": [
    "## Analyzing Subsets of Data"
   ]
  },
  {
   "cell_type": "markdown",
   "metadata": {},
   "source": [
    "Nighttime Data"
   ]
  },
  {
   "cell_type": "code",
   "execution_count": 5,
   "metadata": {},
   "outputs": [
    {
     "name": "stdout",
     "output_type": "stream",
     "text": [
      "13\n"
     ]
    }
   ],
   "source": [
    "#this is practice using .loc()\n",
    "print(hour.loc[3,'count'])"
   ]
  },
  {
   "cell_type": "code",
   "execution_count": 6,
   "metadata": {},
   "outputs": [
    {
     "name": "stdout",
     "output_type": "stream",
     "text": [
      "2    27\n",
      "3    10\n",
      "4     1\n",
      "Name: registered, dtype: int64\n"
     ]
    }
   ],
   "source": [
    "#Want to find out 2 through 4 within registered\n",
    "print(hour.loc[2:4,'registered'])"
   ]
  },
  {
   "cell_type": "code",
   "execution_count": 7,
   "metadata": {},
   "outputs": [
    {
     "name": "stdout",
     "output_type": "stream",
     "text": [
      "20.7881427367238\n"
     ]
    }
   ],
   "source": [
    "print(hour.loc[hour['hr']<5,'registered'].mean())"
   ]
  },
  {
   "cell_type": "code",
   "execution_count": 8,
   "metadata": {},
   "outputs": [
    {
     "name": "stdout",
     "output_type": "stream",
     "text": [
      "<bound method Series.mean of 0        16\n",
      "1        40\n",
      "2        32\n",
      "3        13\n",
      "4         1\n",
      "         ..\n",
      "17355    34\n",
      "17356    19\n",
      "17357    11\n",
      "17358     1\n",
      "17359     3\n",
      "Name: count, Length: 1919, dtype: int64>\n",
      "<bound method Series.mean of 1759      76\n",
      "1760      51\n",
      "1761      25\n",
      "1762       8\n",
      "1763       3\n",
      "        ... \n",
      "15814     13\n",
      "15815      5\n",
      "15859    117\n",
      "16206     23\n",
      "16734     11\n",
      "Name: count, Length: 1536, dtype: int64>\n"
     ]
    }
   ],
   "source": [
    "print(hour.loc[(hour['hr']<5) & (hour['temp']<0.50),'count'].mean)\n",
    "print(hour.loc[(hour['hr']<5) & (hour['temp']>0.50),'count'].mean)"
   ]
  },
  {
   "cell_type": "code",
   "execution_count": 9,
   "metadata": {},
   "outputs": [
    {
     "name": "stdout",
     "output_type": "stream",
     "text": [
      "189.66733882583395\n"
     ]
    }
   ],
   "source": [
    "print(hour.loc[(hour['temp']>0.50) | hour['hum']>0.50,'count'].mean())"
   ]
  },
  {
   "cell_type": "markdown",
   "metadata": {},
   "source": [
    "Seasonal Data\n",
    "\n",
    "    1 for winter\n",
    "    2 for spring\n",
    "    3 for summer\n",
    "    4 for fall"
   ]
  },
  {
   "cell_type": "code",
   "execution_count": 10,
   "metadata": {},
   "outputs": [
    {
     "name": "stdout",
     "output_type": "stream",
     "text": [
      "season\n",
      "1    111.114569\n",
      "2    208.344069\n",
      "3    236.016237\n",
      "4    198.868856\n",
      "Name: count, dtype: float64\n"
     ]
    }
   ],
   "source": [
    "print(hour.groupby(['season'])['count'].mean())"
   ]
  },
  {
   "cell_type": "markdown",
   "metadata": {},
   "source": [
    "This shows that there are more counts for summer than for winter. This shows that more people registar for a bike in the summer time than the winter. "
   ]
  },
  {
   "cell_type": "code",
   "execution_count": 11,
   "metadata": {},
   "outputs": [
    {
     "name": "stdout",
     "output_type": "stream",
     "text": [
      "season  holiday\n",
      "1       0          112.685875\n",
      "        1           72.042683\n",
      "2       0          208.428472\n",
      "        1          204.552083\n",
      "3       0          235.976818\n",
      "        1          237.822917\n",
      "4       0          199.965998\n",
      "        1          167.722222\n",
      "Name: count, dtype: float64\n"
     ]
    }
   ],
   "source": [
    "print(hour.groupby(['season','holiday'])['count'].mean())"
   ]
  },
  {
   "cell_type": "markdown",
   "metadata": {},
   "source": [
    "This breaks it down by holidays where 0 means no holidays and 1 means holiday. We can go into deeper into summer counts and for holiday or non-holiday it is about the same. However, for winter there are less ride sharing during holidays. "
   ]
  },
  {
   "cell_type": "code",
   "execution_count": null,
   "metadata": {},
   "outputs": [],
   "source": []
  }
 ],
 "metadata": {
  "kernelspec": {
   "display_name": "Python 3",
   "language": "python",
   "name": "python3"
  },
  "language_info": {
   "codemirror_mode": {
    "name": "ipython",
    "version": 3
   },
   "file_extension": ".py",
   "mimetype": "text/x-python",
   "name": "python",
   "nbconvert_exporter": "python",
   "pygments_lexer": "ipython3",
   "version": "3.12.2"
  }
 },
 "nbformat": 4,
 "nbformat_minor": 2
}
